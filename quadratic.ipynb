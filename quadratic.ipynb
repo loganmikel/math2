{
 "cells": [
  {
   "cell_type": "code",
   "execution_count": 4,
   "metadata": {},
   "outputs": [
    {
     "name": "stdin",
     "output_type": "stream",
     "text": [
      "What is a?  1\n",
      "What is b?  5\n",
      "What is c?  -14\n"
     ]
    },
    {
     "name": "stdout",
     "output_type": "stream",
     "text": [
      "The roots are:  2.0   -7.0\n"
     ]
    }
   ],
   "source": [
    "import math\n",
    "\n",
    "#Ask for A, B, and C\n",
    "a = eval(input(\"What is a? \"))\n",
    "b = eval(input(\"What is b? \"))\n",
    "c = eval(input(\"What is c? \"))\n",
    "\n",
    "#Calculate the discriminant\n",
    "d = (b*b - 4*a*c)\n",
    "\n",
    "#Check for imaginaries\n",
    "if d < 0:\n",
    "    print(\"Imaginary Roots\")\n",
    "    \n",
    "#Calculate the roots\n",
    "else:\n",
    "    x1 = (-b + math.sqrt(d))/(2*a)\n",
    "    x2 = (-b - math.sqrt(d))/(2*a)\n",
    "#Print the Answers\n",
    "    print(\"The roots are: \",x1, \" \",x2)"
   ]
  },
  {
   "cell_type": "code",
   "execution_count": null,
   "metadata": {},
   "outputs": [],
   "source": []
  }
 ],
 "metadata": {
  "kernelspec": {
   "display_name": "Python 3",
   "language": "python",
   "name": "python3"
  },
  "language_info": {
   "codemirror_mode": {
    "name": "ipython",
    "version": 3
   },
   "file_extension": ".py",
   "mimetype": "text/x-python",
   "name": "python",
   "nbconvert_exporter": "python",
   "pygments_lexer": "ipython3",
   "version": "3.7.8"
  }
 },
 "nbformat": 4,
 "nbformat_minor": 4
}
